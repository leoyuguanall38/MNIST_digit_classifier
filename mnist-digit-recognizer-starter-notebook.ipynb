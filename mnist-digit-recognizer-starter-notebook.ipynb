{
 "cells": [
  {
   "cell_type": "markdown",
   "id": "coupled-fossil",
   "metadata": {
    "papermill": {
     "duration": 0.031229,
     "end_time": "2021-06-14T03:41:20.591544",
     "exception": false,
     "start_time": "2021-06-14T03:41:20.560315",
     "status": "completed"
    },
    "tags": []
   },
   "source": [
    "# MNIST Digit Recognizer Starter Notebook"
   ]
  },
  {
   "cell_type": "markdown",
   "id": "lonely-reader",
   "metadata": {
    "papermill": {
     "duration": 0.030098,
     "end_time": "2021-06-14T03:41:20.651753",
     "exception": false,
     "start_time": "2021-06-14T03:41:20.621655",
     "status": "completed"
    },
    "tags": []
   },
   "source": [
    "In this notebook, we will analyze the MNIST dataset of handwritten digits and classify each image as a digit from 0-9. We will use deep learning specifically a convolutional neural network. Our goal is to get the correct label on as many images as possible."
   ]
  },
  {
   "cell_type": "markdown",
   "id": "residential-activity",
   "metadata": {
    "papermill": {
     "duration": 0.030081,
     "end_time": "2021-06-14T03:41:20.711967",
     "exception": false,
     "start_time": "2021-06-14T03:41:20.681886",
     "status": "completed"
    },
    "tags": []
   },
   "source": [
    "Dataset: The MNIST (Modified National Institute of Standards and Technology) dataset is a collection of images that are 28x28px (784px each image). Each pixel in an image is a number from 0-255 indicating the intensity of the pixel. Each image sample can be though of as a row vector of 785 values, where the first value is the label and the rest are the pixels of the image."
   ]
  },
  {
   "cell_type": "markdown",
   "id": "transsexual-gregory",
   "metadata": {
    "papermill": {
     "duration": 0.030189,
     "end_time": "2021-06-14T03:41:20.772407",
     "exception": false,
     "start_time": "2021-06-14T03:41:20.742218",
     "status": "completed"
    },
    "tags": []
   },
   "source": [
    "Submission file: Our submission will be a .csv file in which the first row is the headers ImageID, Label. For each subsequent line, the first number will be the image ID, followed by a comma and then our predicted label.\n",
    "\n",
    "ImageID, Label  \n",
    "1,8  \n",
    "2,6  \n",
    "..."
   ]
  },
  {
   "cell_type": "markdown",
   "id": "friendly-facial",
   "metadata": {
    "papermill": {
     "duration": 0.03082,
     "end_time": "2021-06-14T03:41:20.833548",
     "exception": false,
     "start_time": "2021-06-14T03:41:20.802728",
     "status": "completed"
    },
    "tags": []
   },
   "source": [
    "# Import required packages"
   ]
  },
  {
   "cell_type": "code",
   "execution_count": 1,
   "id": "loving-washer",
   "metadata": {
    "execution": {
     "iopub.execute_input": "2021-06-14T03:41:20.904433Z",
     "iopub.status.busy": "2021-06-14T03:41:20.903845Z",
     "iopub.status.idle": "2021-06-14T03:41:21.742764Z",
     "shell.execute_reply": "2021-06-14T03:41:21.741807Z",
     "shell.execute_reply.started": "2021-06-14T02:48:23.312278Z"
    },
    "papermill": {
     "duration": 0.879429,
     "end_time": "2021-06-14T03:41:21.742925",
     "exception": false,
     "start_time": "2021-06-14T03:41:20.863496",
     "status": "completed"
    },
    "tags": []
   },
   "outputs": [],
   "source": [
    "import numpy as np\n",
    "import pandas as pd\n",
    "import matplotlib.pyplot as plt\n",
    "import seaborn as sns\n",
    "\n",
    "from sklearn.model_selection import train_test_split\n",
    "\n",
    "import warnings\n",
    "warnings.filterwarnings(\"ignore\")"
   ]
  },
  {
   "cell_type": "markdown",
   "id": "welsh-murray",
   "metadata": {
    "papermill": {
     "duration": 0.029809,
     "end_time": "2021-06-14T03:41:21.804277",
     "exception": false,
     "start_time": "2021-06-14T03:41:21.774468",
     "status": "completed"
    },
    "tags": []
   },
   "source": [
    "# Preview our data"
   ]
  },
  {
   "cell_type": "code",
   "execution_count": 2,
   "id": "wired-relative",
   "metadata": {
    "execution": {
     "iopub.execute_input": "2021-06-14T03:41:21.868892Z",
     "iopub.status.busy": "2021-06-14T03:41:21.868126Z",
     "iopub.status.idle": "2021-06-14T03:41:21.871027Z",
     "shell.execute_reply": "2021-06-14T03:41:21.870493Z",
     "shell.execute_reply.started": "2021-06-14T02:48:24.230354Z"
    },
    "papermill": {
     "duration": 0.036438,
     "end_time": "2021-06-14T03:41:21.871134",
     "exception": false,
     "start_time": "2021-06-14T03:41:21.834696",
     "status": "completed"
    },
    "tags": []
   },
   "outputs": [],
   "source": [
    "FILE_PATH = '/kaggle/input/digit-recognizer/'"
   ]
  },
  {
   "cell_type": "code",
   "execution_count": 3,
   "id": "selected-civilization",
   "metadata": {
    "execution": {
     "iopub.execute_input": "2021-06-14T03:41:21.935046Z",
     "iopub.status.busy": "2021-06-14T03:41:21.934492Z",
     "iopub.status.idle": "2021-06-14T03:41:26.511565Z",
     "shell.execute_reply": "2021-06-14T03:41:26.512030Z",
     "shell.execute_reply.started": "2021-06-14T02:48:24.240240Z"
    },
    "papermill": {
     "duration": 4.611469,
     "end_time": "2021-06-14T03:41:26.512182",
     "exception": false,
     "start_time": "2021-06-14T03:41:21.900713",
     "status": "completed"
    },
    "tags": []
   },
   "outputs": [
    {
     "name": "stdout",
     "output_type": "stream",
     "text": [
      "(42000, 785) (28000, 784)\n"
     ]
    }
   ],
   "source": [
    "train_data_all = pd.read_csv(FILE_PATH + 'train.csv')\n",
    "test_data_all = pd.read_csv(FILE_PATH + 'test.csv')\n",
    "\n",
    "print(train_data_all.shape, test_data_all.shape)"
   ]
  },
  {
   "cell_type": "code",
   "execution_count": 4,
   "id": "massive-niger",
   "metadata": {
    "execution": {
     "iopub.execute_input": "2021-06-14T03:41:26.584242Z",
     "iopub.status.busy": "2021-06-14T03:41:26.583520Z",
     "iopub.status.idle": "2021-06-14T03:41:26.602434Z",
     "shell.execute_reply": "2021-06-14T03:41:26.602879Z",
     "shell.execute_reply.started": "2021-06-14T02:48:29.172778Z"
    },
    "papermill": {
     "duration": 0.06035,
     "end_time": "2021-06-14T03:41:26.603047",
     "exception": false,
     "start_time": "2021-06-14T03:41:26.542697",
     "status": "completed"
    },
    "tags": []
   },
   "outputs": [
    {
     "data": {
      "text/html": [
       "<div>\n",
       "<style scoped>\n",
       "    .dataframe tbody tr th:only-of-type {\n",
       "        vertical-align: middle;\n",
       "    }\n",
       "\n",
       "    .dataframe tbody tr th {\n",
       "        vertical-align: top;\n",
       "    }\n",
       "\n",
       "    .dataframe thead th {\n",
       "        text-align: right;\n",
       "    }\n",
       "</style>\n",
       "<table border=\"1\" class=\"dataframe\">\n",
       "  <thead>\n",
       "    <tr style=\"text-align: right;\">\n",
       "      <th></th>\n",
       "      <th>label</th>\n",
       "      <th>pixel0</th>\n",
       "      <th>pixel1</th>\n",
       "      <th>pixel2</th>\n",
       "      <th>pixel3</th>\n",
       "      <th>pixel4</th>\n",
       "      <th>pixel5</th>\n",
       "      <th>pixel6</th>\n",
       "      <th>pixel7</th>\n",
       "      <th>pixel8</th>\n",
       "      <th>...</th>\n",
       "      <th>pixel774</th>\n",
       "      <th>pixel775</th>\n",
       "      <th>pixel776</th>\n",
       "      <th>pixel777</th>\n",
       "      <th>pixel778</th>\n",
       "      <th>pixel779</th>\n",
       "      <th>pixel780</th>\n",
       "      <th>pixel781</th>\n",
       "      <th>pixel782</th>\n",
       "      <th>pixel783</th>\n",
       "    </tr>\n",
       "  </thead>\n",
       "  <tbody>\n",
       "    <tr>\n",
       "      <th>0</th>\n",
       "      <td>1</td>\n",
       "      <td>0</td>\n",
       "      <td>0</td>\n",
       "      <td>0</td>\n",
       "      <td>0</td>\n",
       "      <td>0</td>\n",
       "      <td>0</td>\n",
       "      <td>0</td>\n",
       "      <td>0</td>\n",
       "      <td>0</td>\n",
       "      <td>...</td>\n",
       "      <td>0</td>\n",
       "      <td>0</td>\n",
       "      <td>0</td>\n",
       "      <td>0</td>\n",
       "      <td>0</td>\n",
       "      <td>0</td>\n",
       "      <td>0</td>\n",
       "      <td>0</td>\n",
       "      <td>0</td>\n",
       "      <td>0</td>\n",
       "    </tr>\n",
       "    <tr>\n",
       "      <th>1</th>\n",
       "      <td>0</td>\n",
       "      <td>0</td>\n",
       "      <td>0</td>\n",
       "      <td>0</td>\n",
       "      <td>0</td>\n",
       "      <td>0</td>\n",
       "      <td>0</td>\n",
       "      <td>0</td>\n",
       "      <td>0</td>\n",
       "      <td>0</td>\n",
       "      <td>...</td>\n",
       "      <td>0</td>\n",
       "      <td>0</td>\n",
       "      <td>0</td>\n",
       "      <td>0</td>\n",
       "      <td>0</td>\n",
       "      <td>0</td>\n",
       "      <td>0</td>\n",
       "      <td>0</td>\n",
       "      <td>0</td>\n",
       "      <td>0</td>\n",
       "    </tr>\n",
       "    <tr>\n",
       "      <th>2</th>\n",
       "      <td>1</td>\n",
       "      <td>0</td>\n",
       "      <td>0</td>\n",
       "      <td>0</td>\n",
       "      <td>0</td>\n",
       "      <td>0</td>\n",
       "      <td>0</td>\n",
       "      <td>0</td>\n",
       "      <td>0</td>\n",
       "      <td>0</td>\n",
       "      <td>...</td>\n",
       "      <td>0</td>\n",
       "      <td>0</td>\n",
       "      <td>0</td>\n",
       "      <td>0</td>\n",
       "      <td>0</td>\n",
       "      <td>0</td>\n",
       "      <td>0</td>\n",
       "      <td>0</td>\n",
       "      <td>0</td>\n",
       "      <td>0</td>\n",
       "    </tr>\n",
       "    <tr>\n",
       "      <th>3</th>\n",
       "      <td>4</td>\n",
       "      <td>0</td>\n",
       "      <td>0</td>\n",
       "      <td>0</td>\n",
       "      <td>0</td>\n",
       "      <td>0</td>\n",
       "      <td>0</td>\n",
       "      <td>0</td>\n",
       "      <td>0</td>\n",
       "      <td>0</td>\n",
       "      <td>...</td>\n",
       "      <td>0</td>\n",
       "      <td>0</td>\n",
       "      <td>0</td>\n",
       "      <td>0</td>\n",
       "      <td>0</td>\n",
       "      <td>0</td>\n",
       "      <td>0</td>\n",
       "      <td>0</td>\n",
       "      <td>0</td>\n",
       "      <td>0</td>\n",
       "    </tr>\n",
       "    <tr>\n",
       "      <th>4</th>\n",
       "      <td>0</td>\n",
       "      <td>0</td>\n",
       "      <td>0</td>\n",
       "      <td>0</td>\n",
       "      <td>0</td>\n",
       "      <td>0</td>\n",
       "      <td>0</td>\n",
       "      <td>0</td>\n",
       "      <td>0</td>\n",
       "      <td>0</td>\n",
       "      <td>...</td>\n",
       "      <td>0</td>\n",
       "      <td>0</td>\n",
       "      <td>0</td>\n",
       "      <td>0</td>\n",
       "      <td>0</td>\n",
       "      <td>0</td>\n",
       "      <td>0</td>\n",
       "      <td>0</td>\n",
       "      <td>0</td>\n",
       "      <td>0</td>\n",
       "    </tr>\n",
       "  </tbody>\n",
       "</table>\n",
       "<p>5 rows × 785 columns</p>\n",
       "</div>"
      ],
      "text/plain": [
       "   label  pixel0  pixel1  pixel2  pixel3  pixel4  pixel5  pixel6  pixel7  \\\n",
       "0      1       0       0       0       0       0       0       0       0   \n",
       "1      0       0       0       0       0       0       0       0       0   \n",
       "2      1       0       0       0       0       0       0       0       0   \n",
       "3      4       0       0       0       0       0       0       0       0   \n",
       "4      0       0       0       0       0       0       0       0       0   \n",
       "\n",
       "   pixel8  ...  pixel774  pixel775  pixel776  pixel777  pixel778  pixel779  \\\n",
       "0       0  ...         0         0         0         0         0         0   \n",
       "1       0  ...         0         0         0         0         0         0   \n",
       "2       0  ...         0         0         0         0         0         0   \n",
       "3       0  ...         0         0         0         0         0         0   \n",
       "4       0  ...         0         0         0         0         0         0   \n",
       "\n",
       "   pixel780  pixel781  pixel782  pixel783  \n",
       "0         0         0         0         0  \n",
       "1         0         0         0         0  \n",
       "2         0         0         0         0  \n",
       "3         0         0         0         0  \n",
       "4         0         0         0         0  \n",
       "\n",
       "[5 rows x 785 columns]"
      ]
     },
     "execution_count": 4,
     "metadata": {},
     "output_type": "execute_result"
    }
   ],
   "source": [
    "train_data_all.head()"
   ]
  },
  {
   "cell_type": "code",
   "execution_count": 5,
   "id": "contrary-laugh",
   "metadata": {
    "execution": {
     "iopub.execute_input": "2021-06-14T03:41:26.678704Z",
     "iopub.status.busy": "2021-06-14T03:41:26.677870Z",
     "iopub.status.idle": "2021-06-14T03:41:26.681891Z",
     "shell.execute_reply": "2021-06-14T03:41:26.682252Z",
     "shell.execute_reply.started": "2021-06-14T02:48:29.203591Z"
    },
    "papermill": {
     "duration": 0.048408,
     "end_time": "2021-06-14T03:41:26.682391",
     "exception": false,
     "start_time": "2021-06-14T03:41:26.633983",
     "status": "completed"
    },
    "tags": []
   },
   "outputs": [
    {
     "data": {
      "text/html": [
       "<div>\n",
       "<style scoped>\n",
       "    .dataframe tbody tr th:only-of-type {\n",
       "        vertical-align: middle;\n",
       "    }\n",
       "\n",
       "    .dataframe tbody tr th {\n",
       "        vertical-align: top;\n",
       "    }\n",
       "\n",
       "    .dataframe thead th {\n",
       "        text-align: right;\n",
       "    }\n",
       "</style>\n",
       "<table border=\"1\" class=\"dataframe\">\n",
       "  <thead>\n",
       "    <tr style=\"text-align: right;\">\n",
       "      <th></th>\n",
       "      <th>pixel0</th>\n",
       "      <th>pixel1</th>\n",
       "      <th>pixel2</th>\n",
       "      <th>pixel3</th>\n",
       "      <th>pixel4</th>\n",
       "      <th>pixel5</th>\n",
       "      <th>pixel6</th>\n",
       "      <th>pixel7</th>\n",
       "      <th>pixel8</th>\n",
       "      <th>pixel9</th>\n",
       "      <th>...</th>\n",
       "      <th>pixel774</th>\n",
       "      <th>pixel775</th>\n",
       "      <th>pixel776</th>\n",
       "      <th>pixel777</th>\n",
       "      <th>pixel778</th>\n",
       "      <th>pixel779</th>\n",
       "      <th>pixel780</th>\n",
       "      <th>pixel781</th>\n",
       "      <th>pixel782</th>\n",
       "      <th>pixel783</th>\n",
       "    </tr>\n",
       "  </thead>\n",
       "  <tbody>\n",
       "    <tr>\n",
       "      <th>0</th>\n",
       "      <td>0</td>\n",
       "      <td>0</td>\n",
       "      <td>0</td>\n",
       "      <td>0</td>\n",
       "      <td>0</td>\n",
       "      <td>0</td>\n",
       "      <td>0</td>\n",
       "      <td>0</td>\n",
       "      <td>0</td>\n",
       "      <td>0</td>\n",
       "      <td>...</td>\n",
       "      <td>0</td>\n",
       "      <td>0</td>\n",
       "      <td>0</td>\n",
       "      <td>0</td>\n",
       "      <td>0</td>\n",
       "      <td>0</td>\n",
       "      <td>0</td>\n",
       "      <td>0</td>\n",
       "      <td>0</td>\n",
       "      <td>0</td>\n",
       "    </tr>\n",
       "    <tr>\n",
       "      <th>1</th>\n",
       "      <td>0</td>\n",
       "      <td>0</td>\n",
       "      <td>0</td>\n",
       "      <td>0</td>\n",
       "      <td>0</td>\n",
       "      <td>0</td>\n",
       "      <td>0</td>\n",
       "      <td>0</td>\n",
       "      <td>0</td>\n",
       "      <td>0</td>\n",
       "      <td>...</td>\n",
       "      <td>0</td>\n",
       "      <td>0</td>\n",
       "      <td>0</td>\n",
       "      <td>0</td>\n",
       "      <td>0</td>\n",
       "      <td>0</td>\n",
       "      <td>0</td>\n",
       "      <td>0</td>\n",
       "      <td>0</td>\n",
       "      <td>0</td>\n",
       "    </tr>\n",
       "    <tr>\n",
       "      <th>2</th>\n",
       "      <td>0</td>\n",
       "      <td>0</td>\n",
       "      <td>0</td>\n",
       "      <td>0</td>\n",
       "      <td>0</td>\n",
       "      <td>0</td>\n",
       "      <td>0</td>\n",
       "      <td>0</td>\n",
       "      <td>0</td>\n",
       "      <td>0</td>\n",
       "      <td>...</td>\n",
       "      <td>0</td>\n",
       "      <td>0</td>\n",
       "      <td>0</td>\n",
       "      <td>0</td>\n",
       "      <td>0</td>\n",
       "      <td>0</td>\n",
       "      <td>0</td>\n",
       "      <td>0</td>\n",
       "      <td>0</td>\n",
       "      <td>0</td>\n",
       "    </tr>\n",
       "    <tr>\n",
       "      <th>3</th>\n",
       "      <td>0</td>\n",
       "      <td>0</td>\n",
       "      <td>0</td>\n",
       "      <td>0</td>\n",
       "      <td>0</td>\n",
       "      <td>0</td>\n",
       "      <td>0</td>\n",
       "      <td>0</td>\n",
       "      <td>0</td>\n",
       "      <td>0</td>\n",
       "      <td>...</td>\n",
       "      <td>0</td>\n",
       "      <td>0</td>\n",
       "      <td>0</td>\n",
       "      <td>0</td>\n",
       "      <td>0</td>\n",
       "      <td>0</td>\n",
       "      <td>0</td>\n",
       "      <td>0</td>\n",
       "      <td>0</td>\n",
       "      <td>0</td>\n",
       "    </tr>\n",
       "    <tr>\n",
       "      <th>4</th>\n",
       "      <td>0</td>\n",
       "      <td>0</td>\n",
       "      <td>0</td>\n",
       "      <td>0</td>\n",
       "      <td>0</td>\n",
       "      <td>0</td>\n",
       "      <td>0</td>\n",
       "      <td>0</td>\n",
       "      <td>0</td>\n",
       "      <td>0</td>\n",
       "      <td>...</td>\n",
       "      <td>0</td>\n",
       "      <td>0</td>\n",
       "      <td>0</td>\n",
       "      <td>0</td>\n",
       "      <td>0</td>\n",
       "      <td>0</td>\n",
       "      <td>0</td>\n",
       "      <td>0</td>\n",
       "      <td>0</td>\n",
       "      <td>0</td>\n",
       "    </tr>\n",
       "  </tbody>\n",
       "</table>\n",
       "<p>5 rows × 784 columns</p>\n",
       "</div>"
      ],
      "text/plain": [
       "   pixel0  pixel1  pixel2  pixel3  pixel4  pixel5  pixel6  pixel7  pixel8  \\\n",
       "0       0       0       0       0       0       0       0       0       0   \n",
       "1       0       0       0       0       0       0       0       0       0   \n",
       "2       0       0       0       0       0       0       0       0       0   \n",
       "3       0       0       0       0       0       0       0       0       0   \n",
       "4       0       0       0       0       0       0       0       0       0   \n",
       "\n",
       "   pixel9  ...  pixel774  pixel775  pixel776  pixel777  pixel778  pixel779  \\\n",
       "0       0  ...         0         0         0         0         0         0   \n",
       "1       0  ...         0         0         0         0         0         0   \n",
       "2       0  ...         0         0         0         0         0         0   \n",
       "3       0  ...         0         0         0         0         0         0   \n",
       "4       0  ...         0         0         0         0         0         0   \n",
       "\n",
       "   pixel780  pixel781  pixel782  pixel783  \n",
       "0         0         0         0         0  \n",
       "1         0         0         0         0  \n",
       "2         0         0         0         0  \n",
       "3         0         0         0         0  \n",
       "4         0         0         0         0  \n",
       "\n",
       "[5 rows x 784 columns]"
      ]
     },
     "execution_count": 5,
     "metadata": {},
     "output_type": "execute_result"
    }
   ],
   "source": [
    "test_data_all.head()"
   ]
  },
  {
   "cell_type": "markdown",
   "id": "promising-military",
   "metadata": {
    "papermill": {
     "duration": 0.031265,
     "end_time": "2021-06-14T03:41:26.744953",
     "exception": false,
     "start_time": "2021-06-14T03:41:26.713688",
     "status": "completed"
    },
    "tags": []
   },
   "source": [
    "Let us preview our labels."
   ]
  },
  {
   "cell_type": "code",
   "execution_count": 6,
   "id": "fitted-generator",
   "metadata": {
    "execution": {
     "iopub.execute_input": "2021-06-14T03:41:26.815961Z",
     "iopub.status.busy": "2021-06-14T03:41:26.815132Z",
     "iopub.status.idle": "2021-06-14T03:41:26.822986Z",
     "shell.execute_reply": "2021-06-14T03:41:26.823377Z",
     "shell.execute_reply.started": "2021-06-14T02:48:29.225385Z"
    },
    "papermill": {
     "duration": 0.047487,
     "end_time": "2021-06-14T03:41:26.823544",
     "exception": false,
     "start_time": "2021-06-14T03:41:26.776057",
     "status": "completed"
    },
    "tags": []
   },
   "outputs": [
    {
     "name": "stdout",
     "output_type": "stream",
     "text": [
      "List of unique labels: [0, 1, 2, 3, 4, 5, 6, 7, 8, 9]\n",
      "Counts of unique labels:\n"
     ]
    },
    {
     "data": {
      "text/plain": [
       "0    4132\n",
       "1    4684\n",
       "2    4177\n",
       "3    4351\n",
       "4    4072\n",
       "5    3795\n",
       "6    4137\n",
       "7    4401\n",
       "8    4063\n",
       "9    4188\n",
       "Name: label, dtype: int64"
      ]
     },
     "execution_count": 6,
     "metadata": {},
     "output_type": "execute_result"
    }
   ],
   "source": [
    "print('List of unique labels: ' + str(sorted(train_data_all['label'].unique())))\n",
    "print('Counts of unique labels:')\n",
    "train_data_all['label'].value_counts().sort_index()"
   ]
  },
  {
   "cell_type": "markdown",
   "id": "alleged-horizontal",
   "metadata": {
    "papermill": {
     "duration": 0.033602,
     "end_time": "2021-06-14T03:41:26.889313",
     "exception": false,
     "start_time": "2021-06-14T03:41:26.855711",
     "status": "completed"
    },
    "tags": []
   },
   "source": [
    "It looks like we have a good distribution of image samples for each of the labels. Now let us prepare our training data by separating the images and the labels."
   ]
  },
  {
   "cell_type": "code",
   "execution_count": 7,
   "id": "charged-syndicate",
   "metadata": {
    "execution": {
     "iopub.execute_input": "2021-06-14T03:41:27.045087Z",
     "iopub.status.busy": "2021-06-14T03:41:27.044299Z",
     "iopub.status.idle": "2021-06-14T03:41:27.048022Z",
     "shell.execute_reply": "2021-06-14T03:41:27.048705Z",
     "shell.execute_reply.started": "2021-06-14T02:48:29.240452Z"
    },
    "papermill": {
     "duration": 0.123668,
     "end_time": "2021-06-14T03:41:27.048920",
     "exception": false,
     "start_time": "2021-06-14T03:41:26.925252",
     "status": "completed"
    },
    "tags": []
   },
   "outputs": [
    {
     "name": "stdout",
     "output_type": "stream",
     "text": [
      "(42000, 784)\n",
      "(42000,)\n",
      "<class 'pandas.core.frame.DataFrame'> <class 'pandas.core.series.Series'>\n"
     ]
    }
   ],
   "source": [
    "x = train_data_all.drop(\"label\", axis = 1)\n",
    "y = train_data_all[\"label\"]\n",
    "\n",
    "print(x.shape)\n",
    "print(y.shape)\n",
    "\n",
    "print(type(x), type(y))"
   ]
  },
  {
   "cell_type": "markdown",
   "id": "unable-browse",
   "metadata": {
    "papermill": {
     "duration": 0.033926,
     "end_time": "2021-06-14T03:41:27.118246",
     "exception": false,
     "start_time": "2021-06-14T03:41:27.084320",
     "status": "completed"
    },
    "tags": []
   },
   "source": [
    "Now we will use Scikit Learn's train_test_split function to separate our training set into training and validation sets. "
   ]
  },
  {
   "cell_type": "code",
   "execution_count": 8,
   "id": "hired-regard",
   "metadata": {
    "execution": {
     "iopub.execute_input": "2021-06-14T03:41:27.188210Z",
     "iopub.status.busy": "2021-06-14T03:41:27.186736Z",
     "iopub.status.idle": "2021-06-14T03:41:27.430770Z",
     "shell.execute_reply": "2021-06-14T03:41:27.431216Z",
     "shell.execute_reply.started": "2021-06-14T02:48:29.327753Z"
    },
    "papermill": {
     "duration": 0.280976,
     "end_time": "2021-06-14T03:41:27.431371",
     "exception": false,
     "start_time": "2021-06-14T03:41:27.150395",
     "status": "completed"
    },
    "tags": []
   },
   "outputs": [
    {
     "name": "stdout",
     "output_type": "stream",
     "text": [
      "(29400, 784) (29400,)\n",
      "(12600, 784) (12600,)\n"
     ]
    }
   ],
   "source": [
    "x_train, x_val, y_train, y_val = train_test_split(x, y, test_size = 0.3, random_state = 1)\n",
    "\n",
    "print(x_train.shape, y_train.shape)\n",
    "print(x_val.shape, y_val.shape)"
   ]
  },
  {
   "cell_type": "markdown",
   "id": "painted-resistance",
   "metadata": {
    "papermill": {
     "duration": 0.032584,
     "end_time": "2021-06-14T03:41:27.498887",
     "exception": false,
     "start_time": "2021-06-14T03:41:27.466303",
     "status": "completed"
    },
    "tags": []
   },
   "source": [
    "Now we will turn our data into numpy arrays and reshape them into images of 28x28 so that they can be fed to our model."
   ]
  },
  {
   "cell_type": "code",
   "execution_count": 9,
   "id": "choice-masters",
   "metadata": {
    "execution": {
     "iopub.execute_input": "2021-06-14T03:41:27.571068Z",
     "iopub.status.busy": "2021-06-14T03:41:27.569753Z",
     "iopub.status.idle": "2021-06-14T03:41:27.754526Z",
     "shell.execute_reply": "2021-06-14T03:41:27.753985Z",
     "shell.execute_reply.started": "2021-06-14T02:48:29.588684Z"
    },
    "papermill": {
     "duration": 0.222964,
     "end_time": "2021-06-14T03:41:27.754662",
     "exception": false,
     "start_time": "2021-06-14T03:41:27.531698",
     "status": "completed"
    },
    "tags": []
   },
   "outputs": [
    {
     "name": "stdout",
     "output_type": "stream",
     "text": [
      "(29400, 28, 28, 1)\n",
      "(12600, 28, 28, 1)\n",
      "float64\n",
      "float64\n"
     ]
    }
   ],
   "source": [
    "x_train_reshaped = np.array(x_train).astype('float64').reshape(-1, 28, 28, 1)\n",
    "x_val_reshaped = np.array(x_val).astype('float64').reshape(-1, 28, 28, 1)\n",
    "\n",
    "print(x_train_reshaped.shape)\n",
    "print(x_val_reshaped.shape)\n",
    "\n",
    "print(x_train_reshaped[0].dtype)\n",
    "print(x_val_reshaped[0].dtype)"
   ]
  },
  {
   "cell_type": "markdown",
   "id": "corporate-looking",
   "metadata": {
    "papermill": {
     "duration": 0.031688,
     "end_time": "2021-06-14T03:41:27.818626",
     "exception": false,
     "start_time": "2021-06-14T03:41:27.786938",
     "status": "completed"
    },
    "tags": []
   },
   "source": [
    "Let us peak at what our images look like using MatPlotLib."
   ]
  },
  {
   "cell_type": "code",
   "execution_count": 10,
   "id": "theoretical-sequence",
   "metadata": {
    "execution": {
     "iopub.execute_input": "2021-06-14T03:41:27.901112Z",
     "iopub.status.busy": "2021-06-14T03:41:27.900349Z",
     "iopub.status.idle": "2021-06-14T03:41:28.875575Z",
     "shell.execute_reply": "2021-06-14T03:41:28.876023Z",
     "shell.execute_reply.started": "2021-06-14T02:48:29.781837Z"
    },
    "papermill": {
     "duration": 1.025337,
     "end_time": "2021-06-14T03:41:28.876167",
     "exception": false,
     "start_time": "2021-06-14T03:41:27.850830",
     "status": "completed"
    },
    "tags": []
   },
   "outputs": [
    {
     "data": {
      "image/png": "[encoded data removed]",
      "text/plain": [
       "<Figure size 1080x720 with 12 Axes>"
      ]
     },
     "metadata": {
      "needs_background": "light"
     },
     "output_type": "display_data"
    }
   ],
   "source": [
    "fig = plt.figure(figsize = (15, 10))\n",
    "\n",
    "for i in range(12):\n",
    "    plt.subplot(4, 3, i+1)\n",
    "    plt.imshow(x_train_reshaped[i])\n",
    "\n",
    "plt.show()"
   ]
  },
  {
   "cell_type": "markdown",
   "id": "elegant-hybrid",
   "metadata": {
    "papermill": {
     "duration": 0.03283,
     "end_time": "2021-06-14T03:41:28.941974",
     "exception": false,
     "start_time": "2021-06-14T03:41:28.909144",
     "status": "completed"
    },
    "tags": []
   },
   "source": [
    "Before we send our data to the model, we will normalize it. Normalization of data can be thought of as shrinking all of our features (in this case pixels) proportionally so that they fall in between a certain range, often times with a mean of 0 and standard deviation of 1. This will help prevent our model from generating weight values that are too far apart and also help our model converge during training (gradient descent). Here, we will simply divide our pixel values by 255, which is the maximum intensity for a pixel."
   ]
  },
  {
   "cell_type": "code",
   "execution_count": 11,
   "id": "animated-monster",
   "metadata": {
    "execution": {
     "iopub.execute_input": "2021-06-14T03:41:29.012555Z",
     "iopub.status.busy": "2021-06-14T03:41:29.011632Z",
     "iopub.status.idle": "2021-06-14T03:41:29.095406Z",
     "shell.execute_reply": "2021-06-14T03:41:29.095832Z",
     "shell.execute_reply.started": "2021-06-14T02:48:30.942779Z"
    },
    "papermill": {
     "duration": 0.121053,
     "end_time": "2021-06-14T03:41:29.095979",
     "exception": false,
     "start_time": "2021-06-14T03:41:28.974926",
     "status": "completed"
    },
    "tags": []
   },
   "outputs": [
    {
     "data": {
      "text/plain": [
       "(28, 28, 1)"
      ]
     },
     "execution_count": 11,
     "metadata": {},
     "output_type": "execute_result"
    }
   ],
   "source": [
    "x_train_reshaped = x_train_reshaped / 255.0\n",
    "x_val_reshaped = x_val_reshaped / 255.0\n",
    "\n",
    "x_train_reshaped[0].shape"
   ]
  },
  {
   "cell_type": "markdown",
   "id": "persistent-competition",
   "metadata": {
    "papermill": {
     "duration": 0.032972,
     "end_time": "2021-06-14T03:41:29.162541",
     "exception": false,
     "start_time": "2021-06-14T03:41:29.129569",
     "status": "completed"
    },
    "tags": []
   },
   "source": [
    "Now, we will build our model. We will develop our ConvNet with the Tensorflow and Keras packages."
   ]
  },
  {
   "cell_type": "code",
   "execution_count": 12,
   "id": "secure-participant",
   "metadata": {
    "execution": {
     "iopub.execute_input": "2021-06-14T03:41:29.233109Z",
     "iopub.status.busy": "2021-06-14T03:41:29.232451Z",
     "iopub.status.idle": "2021-06-14T03:41:33.709750Z",
     "shell.execute_reply": "2021-06-14T03:41:33.708820Z",
     "shell.execute_reply.started": "2021-06-14T02:48:31.048849Z"
    },
    "papermill": {
     "duration": 4.514319,
     "end_time": "2021-06-14T03:41:33.709895",
     "exception": false,
     "start_time": "2021-06-14T03:41:29.195576",
     "status": "completed"
    },
    "tags": []
   },
   "outputs": [],
   "source": [
    "from keras.models import Sequential\n",
    "from keras.layers import Dense, Dropout, Conv2D, Flatten, BatchNormalization"
   ]
  },
  {
   "cell_type": "code",
   "execution_count": 13,
   "id": "exterior-watch",
   "metadata": {
    "execution": {
     "iopub.execute_input": "2021-06-14T03:41:33.788150Z",
     "iopub.status.busy": "2021-06-14T03:41:33.787469Z",
     "iopub.status.idle": "2021-06-14T03:41:35.901183Z",
     "shell.execute_reply": "2021-06-14T03:41:35.900458Z",
     "shell.execute_reply.started": "2021-06-14T02:48:35.914764Z"
    },
    "papermill": {
     "duration": 2.156388,
     "end_time": "2021-06-14T03:41:35.901321",
     "exception": false,
     "start_time": "2021-06-14T03:41:33.744933",
     "status": "completed"
    },
    "tags": []
   },
   "outputs": [],
   "source": [
    "model = Sequential()\n",
    "\n",
    "model.add(Conv2D(64, kernel_size = 3, activation = \"relu\", padding=\"same\", input_shape = (28, 28, 1)))\n",
    "model.add(BatchNormalization())\n",
    "\n",
    "model.add(Conv2D(64, kernel_size = 3, activation = \"relu\"))\n",
    "model.add(BatchNormalization())\n",
    "\n",
    "model.add(Conv2D(64, kernel_size = 5, strides=2, activation = \"relu\", padding=\"same\"))\n",
    "model.add(BatchNormalization())\n",
    "model.add(Dropout(0.4))\n",
    "\n",
    "model.add(Conv2D(64, kernel_size = 3, activation = \"relu\"))\n",
    "model.add(BatchNormalization())\n",
    "\n",
    "model.add(Conv2D(64, kernel_size = 3, activation = \"relu\"))\n",
    "model.add(BatchNormalization())\n",
    "\n",
    "model.add(Conv2D(64, kernel_size = 5, strides=2, activation = \"relu\", padding=\"same\"))\n",
    "model.add(BatchNormalization())\n",
    "model.add(Dropout(0.4))\n",
    "\n",
    "model.add(Conv2D(64, kernel_size = 4, activation = \"relu\"))\n",
    "model.add(BatchNormalization())\n",
    "\n",
    "model.add(Flatten())\n",
    "model.add(Dropout(0.3))\n",
    "\n",
    "model.add(Dense(units = 10, activation = \"softmax\"))"
   ]
  },
  {
   "cell_type": "code",
   "execution_count": 14,
   "id": "structured-peeing",
   "metadata": {
    "execution": {
     "iopub.execute_input": "2021-06-14T03:41:35.982208Z",
     "iopub.status.busy": "2021-06-14T03:41:35.973677Z",
     "iopub.status.idle": "2021-06-14T03:41:35.986531Z",
     "shell.execute_reply": "2021-06-14T03:41:35.986107Z",
     "shell.execute_reply.started": "2021-06-14T02:48:37.997523Z"
    },
    "papermill": {
     "duration": 0.051685,
     "end_time": "2021-06-14T03:41:35.986670",
     "exception": false,
     "start_time": "2021-06-14T03:41:35.934985",
     "status": "completed"
    },
    "tags": []
   },
   "outputs": [
    {
     "name": "stdout",
     "output_type": "stream",
     "text": [
      "Model: \"sequential\"\n",
      "_________________________________________________________________\n",
      "Layer (type)                 Output Shape              Param #   \n",
      "=================================================================\n",
      "conv2d (Conv2D)              (None, 28, 28, 64)        640       \n",
      "_________________________________________________________________\n",
      "batch_normalization (BatchNo (None, 28, 28, 64)        256       \n",
      "_________________________________________________________________\n",
      "conv2d_1 (Conv2D)            (None, 26, 26, 64)        36928     \n",
      "_________________________________________________________________\n",
      "batch_normalization_1 (Batch (None, 26, 26, 64)        256       \n",
      "_________________________________________________________________\n",
      "conv2d_2 (Conv2D)            (None, 13, 13, 64)        102464    \n",
      "_________________________________________________________________\n",
      "batch_normalization_2 (Batch (None, 13, 13, 64)        256       \n",
      "_________________________________________________________________\n",
      "dropout (Dropout)            (None, 13, 13, 64)        0         \n",
      "_________________________________________________________________\n",
      "conv2d_3 (Conv2D)            (None, 11, 11, 64)        36928     \n",
      "_________________________________________________________________\n",
      "batch_normalization_3 (Batch (None, 11, 11, 64)        256       \n",
      "_________________________________________________________________\n",
      "conv2d_4 (Conv2D)            (None, 9, 9, 64)          36928     \n",
      "_________________________________________________________________\n",
      "batch_normalization_4 (Batch (None, 9, 9, 64)          256       \n",
      "_________________________________________________________________\n",
      "conv2d_5 (Conv2D)            (None, 5, 5, 64)          102464    \n",
      "_________________________________________________________________\n",
      "batch_normalization_5 (Batch (None, 5, 5, 64)          256       \n",
      "_________________________________________________________________\n",
      "dropout_1 (Dropout)          (None, 5, 5, 64)          0         \n",
      "_________________________________________________________________\n",
      "conv2d_6 (Conv2D)            (None, 2, 2, 64)          65600     \n",
      "_________________________________________________________________\n",
      "batch_normalization_6 (Batch (None, 2, 2, 64)          256       \n",
      "_________________________________________________________________\n",
      "flatten (Flatten)            (None, 256)               0         \n",
      "_________________________________________________________________\n",
      "dropout_2 (Dropout)          (None, 256)               0         \n",
      "_________________________________________________________________\n",
      "dense (Dense)                (None, 10)                2570      \n",
      "=================================================================\n",
      "Total params: 386,314\n",
      "Trainable params: 385,418\n",
      "Non-trainable params: 896\n",
      "_________________________________________________________________\n"
     ]
    }
   ],
   "source": [
    "model.summary()"
   ]
  },
  {
   "cell_type": "markdown",
   "id": "touched-modification",
   "metadata": {
    "papermill": {
     "duration": 0.033885,
     "end_time": "2021-06-14T03:41:36.054376",
     "exception": false,
     "start_time": "2021-06-14T03:41:36.020491",
     "status": "completed"
    },
    "tags": []
   },
   "source": [
    "# Visualization of our ConvNet architecture.\n",
    "\n",
    "Keras has built in tools to help us visualize our models."
   ]
  },
  {
   "cell_type": "code",
   "execution_count": 15,
   "id": "balanced-queensland",
   "metadata": {
    "execution": {
     "iopub.execute_input": "2021-06-14T03:41:36.128708Z",
     "iopub.status.busy": "2021-06-14T03:41:36.127859Z",
     "iopub.status.idle": "2021-06-14T03:41:36.614253Z",
     "shell.execute_reply": "2021-06-14T03:41:36.614702Z",
     "shell.execute_reply.started": "2021-06-14T02:48:38.013986Z"
    },
    "papermill": {
     "duration": 0.525831,
     "end_time": "2021-06-14T03:41:36.614858",
     "exception": false,
     "start_time": "2021-06-14T03:41:36.089027",
     "status": "completed"
    },
    "tags": []
   },
   "outputs": [
    {
     "data": {
      "image/png": "[encoded data removed]",
      "text/plain": [
       "<IPython.core.display.Image object>"
      ]
     },
     "execution_count": 15,
     "metadata": {},
     "output_type": "execute_result"
    }
   ],
   "source": [
    "from keras.utils import plot_model\n",
    "from IPython.display import Image\n",
    "\n",
    "plot_model(model, to_file='model.png', show_shapes=True, show_layer_names=True)\n",
    "Image(\"model.png\")"
   ]
  },
  {
   "cell_type": "markdown",
   "id": "textile-engineering",
   "metadata": {
    "papermill": {
     "duration": 0.03697,
     "end_time": "2021-06-14T03:41:36.691326",
     "exception": false,
     "start_time": "2021-06-14T03:41:36.654356",
     "status": "completed"
    },
    "tags": []
   },
   "source": [
    "# Compiling and training our model"
   ]
  },
  {
   "cell_type": "code",
   "execution_count": 16,
   "id": "cloudy-portable",
   "metadata": {
    "execution": {
     "iopub.execute_input": "2021-06-14T03:41:36.779965Z",
     "iopub.status.busy": "2021-06-14T03:41:36.779136Z",
     "iopub.status.idle": "2021-06-14T03:41:36.785415Z",
     "shell.execute_reply": "2021-06-14T03:41:36.785813Z",
     "shell.execute_reply.started": "2021-06-14T02:48:38.476316Z"
    },
    "papermill": {
     "duration": 0.057201,
     "end_time": "2021-06-14T03:41:36.785955",
     "exception": false,
     "start_time": "2021-06-14T03:41:36.728754",
     "status": "completed"
    },
    "tags": []
   },
   "outputs": [],
   "source": [
    "model.compile(optimizer = \"adam\", loss = \"sparse_categorical_crossentropy\", metrics = [\"accuracy\"])"
   ]
  },
  {
   "cell_type": "markdown",
   "id": "basic-overview",
   "metadata": {
    "papermill": {
     "duration": 0.037508,
     "end_time": "2021-06-14T03:41:36.860613",
     "exception": false,
     "start_time": "2021-06-14T03:41:36.823105",
     "status": "completed"
    },
    "tags": []
   },
   "source": [
    "Reduce learning rate when a particular metric has stopped improving.(https://keras.io/api/callbacks/reduce_lr_on_plateau/)"
   ]
  },
  {
   "cell_type": "code",
   "execution_count": 17,
   "id": "dress-sarah",
   "metadata": {
    "execution": {
     "iopub.execute_input": "2021-06-14T03:41:36.938905Z",
     "iopub.status.busy": "2021-06-14T03:41:36.938336Z",
     "iopub.status.idle": "2021-06-14T03:41:36.942350Z",
     "shell.execute_reply": "2021-06-14T03:41:36.941943Z",
     "shell.execute_reply.started": "2021-06-14T02:48:38.496934Z"
    },
    "papermill": {
     "duration": 0.04492,
     "end_time": "2021-06-14T03:41:36.942459",
     "exception": false,
     "start_time": "2021-06-14T03:41:36.897539",
     "status": "completed"
    },
    "tags": []
   },
   "outputs": [],
   "source": [
    "from keras.callbacks import ReduceLROnPlateau\n",
    "\n",
    "reduce_lr = ReduceLROnPlateau(monitor='val_acc', factor=0.5,\n",
    "                              patience=2, min_lr=0.00001)"
   ]
  },
  {
   "cell_type": "markdown",
   "id": "short-dependence",
   "metadata": {
    "papermill": {
     "duration": 0.036877,
     "end_time": "2021-06-14T03:41:37.016327",
     "exception": false,
     "start_time": "2021-06-14T03:41:36.979450",
     "status": "completed"
    },
    "tags": []
   },
   "source": [
    "Learning rate scheduler. https://keras.io/api/callbacks/learning_rate_scheduler/"
   ]
  },
  {
   "cell_type": "code",
   "execution_count": 18,
   "id": "straight-medicine",
   "metadata": {
    "execution": {
     "iopub.execute_input": "2021-06-14T03:41:37.096559Z",
     "iopub.status.busy": "2021-06-14T03:41:37.095252Z",
     "iopub.status.idle": "2021-06-14T03:41:37.098066Z",
     "shell.execute_reply": "2021-06-14T03:41:37.097668Z",
     "shell.execute_reply.started": "2021-06-14T02:48:38.505225Z"
    },
    "papermill": {
     "duration": 0.044692,
     "end_time": "2021-06-14T03:41:37.098178",
     "exception": false,
     "start_time": "2021-06-14T03:41:37.053486",
     "status": "completed"
    },
    "tags": []
   },
   "outputs": [],
   "source": [
    "from tensorflow.keras.callbacks import LearningRateScheduler\n",
    "\n",
    "callback = LearningRateScheduler(lambda x: 1e-3 * 0.95 ** x)"
   ]
  },
  {
   "cell_type": "markdown",
   "id": "automatic-school",
   "metadata": {
    "papermill": {
     "duration": 0.037461,
     "end_time": "2021-06-14T03:41:37.172947",
     "exception": false,
     "start_time": "2021-06-14T03:41:37.135486",
     "status": "completed"
    },
    "tags": []
   },
   "source": [
    "We are using the ImageDataGenerator class provided by Keras to augment our dataset. https://keras.io/api/preprocessing/image/"
   ]
  },
  {
   "cell_type": "code",
   "execution_count": 19,
   "id": "constitutional-disease",
   "metadata": {
    "execution": {
     "iopub.execute_input": "2021-06-14T03:41:37.252950Z",
     "iopub.status.busy": "2021-06-14T03:41:37.252103Z",
     "iopub.status.idle": "2021-06-14T03:41:37.326441Z",
     "shell.execute_reply": "2021-06-14T03:41:37.325916Z",
     "shell.execute_reply.started": "2021-06-14T02:48:38.515902Z"
    },
    "papermill": {
     "duration": 0.116484,
     "end_time": "2021-06-14T03:41:37.326560",
     "exception": false,
     "start_time": "2021-06-14T03:41:37.210076",
     "status": "completed"
    },
    "tags": []
   },
   "outputs": [],
   "source": [
    "from keras.preprocessing.image import ImageDataGenerator\n",
    "\n",
    "datagen = ImageDataGenerator(\n",
    "        featurewise_center=False,\n",
    "        samplewise_center=False,\n",
    "        featurewise_std_normalization=False,\n",
    "        samplewise_std_normalization=False,\n",
    "        zca_whitening=False,\n",
    "        rotation_range=10,\n",
    "        zoom_range = 0.1,\n",
    "        width_shift_range=0.2,\n",
    "        height_shift_range=0.2,\n",
    "        horizontal_flip=False,\n",
    "        vertical_flip=False)\n",
    "\n",
    "datagen.fit(x_train_reshaped)"
   ]
  },
  {
   "cell_type": "markdown",
   "id": "plastic-province",
   "metadata": {
    "papermill": {
     "duration": 0.036913,
     "end_time": "2021-06-14T03:41:37.402321",
     "exception": false,
     "start_time": "2021-06-14T03:41:37.365408",
     "status": "completed"
    },
    "tags": []
   },
   "source": [
    "Now we will train our model using the fit method. The history object contains data about the training process."
   ]
  },
  {
   "cell_type": "code",
   "execution_count": 20,
   "id": "natural-honduras",
   "metadata": {
    "execution": {
     "iopub.execute_input": "2021-06-14T03:41:37.482682Z",
     "iopub.status.busy": "2021-06-14T03:41:37.481634Z",
     "iopub.status.idle": "2021-06-14T03:57:27.406289Z",
     "shell.execute_reply": "2021-06-14T03:57:27.406893Z",
     "shell.execute_reply.started": "2021-06-14T02:48:38.597844Z"
    },
    "papermill": {
     "duration": 949.967655,
     "end_time": "2021-06-14T03:57:27.407103",
     "exception": false,
     "start_time": "2021-06-14T03:41:37.439448",
     "status": "completed"
    },
    "tags": []
   },
   "outputs": [
    {
     "name": "stdout",
     "output_type": "stream",
     "text": [
      "Epoch 1/50\n",
      "459/459 - 24s - loss: 0.8517 - accuracy: 0.7311 - val_loss: 6.8920 - val_accuracy: 0.1467\n",
      "Epoch 2/50\n",
      "459/459 - 19s - loss: 0.2085 - accuracy: 0.9369 - val_loss: 0.0877 - val_accuracy: 0.9742\n",
      "Epoch 3/50\n",
      "459/459 - 19s - loss: 0.1396 - accuracy: 0.9580 - val_loss: 0.0650 - val_accuracy: 0.9817\n",
      "Epoch 4/50\n",
      "459/459 - 19s - loss: 0.1114 - accuracy: 0.9663 - val_loss: 0.0698 - val_accuracy: 0.9793\n",
      "Epoch 5/50\n",
      "459/459 - 19s - loss: 0.0912 - accuracy: 0.9723 - val_loss: 0.0488 - val_accuracy: 0.9860\n",
      "Epoch 6/50\n",
      "459/459 - 19s - loss: 0.0798 - accuracy: 0.9761 - val_loss: 0.0450 - val_accuracy: 0.9886\n",
      "Epoch 7/50\n",
      "459/459 - 19s - loss: 0.0742 - accuracy: 0.9786 - val_loss: 0.0426 - val_accuracy: 0.9879\n",
      "Epoch 8/50\n",
      "459/459 - 19s - loss: 0.0685 - accuracy: 0.9798 - val_loss: 0.0399 - val_accuracy: 0.9891\n",
      "Epoch 9/50\n",
      "459/459 - 19s - loss: 0.0632 - accuracy: 0.9810 - val_loss: 0.0307 - val_accuracy: 0.9915\n",
      "Epoch 10/50\n",
      "459/459 - 19s - loss: 0.0580 - accuracy: 0.9826 - val_loss: 0.0330 - val_accuracy: 0.9902\n",
      "Epoch 11/50\n",
      "459/459 - 19s - loss: 0.0543 - accuracy: 0.9838 - val_loss: 0.0361 - val_accuracy: 0.9901\n",
      "Epoch 12/50\n",
      "459/459 - 19s - loss: 0.0475 - accuracy: 0.9841 - val_loss: 0.0370 - val_accuracy: 0.9894\n",
      "Epoch 13/50\n",
      "459/459 - 19s - loss: 0.0495 - accuracy: 0.9852 - val_loss: 0.0293 - val_accuracy: 0.9920\n",
      "Epoch 14/50\n",
      "459/459 - 19s - loss: 0.0422 - accuracy: 0.9861 - val_loss: 0.0390 - val_accuracy: 0.9893\n",
      "Epoch 15/50\n",
      "459/459 - 19s - loss: 0.0407 - accuracy: 0.9869 - val_loss: 0.0292 - val_accuracy: 0.9931\n",
      "Epoch 16/50\n",
      "459/459 - 19s - loss: 0.0394 - accuracy: 0.9879 - val_loss: 0.0242 - val_accuracy: 0.9933\n",
      "Epoch 17/50\n",
      "459/459 - 19s - loss: 0.0400 - accuracy: 0.9881 - val_loss: 0.0311 - val_accuracy: 0.9910\n",
      "Epoch 18/50\n",
      "459/459 - 19s - loss: 0.0346 - accuracy: 0.9898 - val_loss: 0.0262 - val_accuracy: 0.9935\n",
      "Epoch 19/50\n",
      "459/459 - 19s - loss: 0.0318 - accuracy: 0.9901 - val_loss: 0.0225 - val_accuracy: 0.9944\n",
      "Epoch 20/50\n",
      "459/459 - 19s - loss: 0.0311 - accuracy: 0.9909 - val_loss: 0.0221 - val_accuracy: 0.9946\n",
      "Epoch 21/50\n",
      "459/459 - 19s - loss: 0.0293 - accuracy: 0.9909 - val_loss: 0.0252 - val_accuracy: 0.9935\n",
      "Epoch 22/50\n",
      "459/459 - 19s - loss: 0.0280 - accuracy: 0.9909 - val_loss: 0.0229 - val_accuracy: 0.9948\n",
      "Epoch 23/50\n",
      "459/459 - 19s - loss: 0.0289 - accuracy: 0.9911 - val_loss: 0.0294 - val_accuracy: 0.9925\n",
      "Epoch 24/50\n",
      "459/459 - 19s - loss: 0.0250 - accuracy: 0.9922 - val_loss: 0.0206 - val_accuracy: 0.9952\n",
      "Epoch 25/50\n",
      "459/459 - 19s - loss: 0.0265 - accuracy: 0.9915 - val_loss: 0.0223 - val_accuracy: 0.9949\n",
      "Epoch 26/50\n",
      "459/459 - 19s - loss: 0.0250 - accuracy: 0.9924 - val_loss: 0.0234 - val_accuracy: 0.9939\n",
      "Epoch 27/50\n",
      "459/459 - 19s - loss: 0.0208 - accuracy: 0.9935 - val_loss: 0.0226 - val_accuracy: 0.9944\n",
      "Epoch 28/50\n",
      "459/459 - 19s - loss: 0.0240 - accuracy: 0.9926 - val_loss: 0.0216 - val_accuracy: 0.9951\n",
      "Epoch 29/50\n",
      "459/459 - 19s - loss: 0.0198 - accuracy: 0.9938 - val_loss: 0.0214 - val_accuracy: 0.9954\n",
      "Epoch 30/50\n",
      "459/459 - 19s - loss: 0.0201 - accuracy: 0.9931 - val_loss: 0.0250 - val_accuracy: 0.9940\n",
      "Epoch 31/50\n",
      "459/459 - 19s - loss: 0.0195 - accuracy: 0.9939 - val_loss: 0.0220 - val_accuracy: 0.9947\n",
      "Epoch 32/50\n",
      "459/459 - 19s - loss: 0.0179 - accuracy: 0.9945 - val_loss: 0.0213 - val_accuracy: 0.9955\n",
      "Epoch 33/50\n",
      "459/459 - 19s - loss: 0.0196 - accuracy: 0.9936 - val_loss: 0.0218 - val_accuracy: 0.9946\n",
      "Epoch 34/50\n",
      "459/459 - 19s - loss: 0.0180 - accuracy: 0.9946 - val_loss: 0.0238 - val_accuracy: 0.9937\n",
      "Epoch 35/50\n",
      "459/459 - 19s - loss: 0.0165 - accuracy: 0.9949 - val_loss: 0.0208 - val_accuracy: 0.9948\n",
      "Epoch 36/50\n",
      "459/459 - 19s - loss: 0.0153 - accuracy: 0.9951 - val_loss: 0.0207 - val_accuracy: 0.9952\n",
      "Epoch 37/50\n",
      "459/459 - 19s - loss: 0.0155 - accuracy: 0.9949 - val_loss: 0.0218 - val_accuracy: 0.9953\n",
      "Epoch 38/50\n",
      "459/459 - 19s - loss: 0.0152 - accuracy: 0.9951 - val_loss: 0.0199 - val_accuracy: 0.9955\n",
      "Epoch 39/50\n",
      "459/459 - 19s - loss: 0.0162 - accuracy: 0.9950 - val_loss: 0.0232 - val_accuracy: 0.9942\n",
      "Epoch 40/50\n",
      "459/459 - 19s - loss: 0.0135 - accuracy: 0.9958 - val_loss: 0.0220 - val_accuracy: 0.9948\n",
      "Epoch 41/50\n",
      "459/459 - 19s - loss: 0.0119 - accuracy: 0.9965 - val_loss: 0.0205 - val_accuracy: 0.9956\n",
      "Epoch 42/50\n",
      "459/459 - 19s - loss: 0.0139 - accuracy: 0.9959 - val_loss: 0.0209 - val_accuracy: 0.9956\n",
      "Epoch 43/50\n",
      "459/459 - 19s - loss: 0.0115 - accuracy: 0.9970 - val_loss: 0.0219 - val_accuracy: 0.9952\n",
      "Epoch 44/50\n",
      "459/459 - 19s - loss: 0.0159 - accuracy: 0.9953 - val_loss: 0.0229 - val_accuracy: 0.9948\n",
      "Epoch 45/50\n",
      "459/459 - 19s - loss: 0.0127 - accuracy: 0.9961 - val_loss: 0.0193 - val_accuracy: 0.9955\n",
      "Epoch 46/50\n",
      "459/459 - 19s - loss: 0.0117 - accuracy: 0.9966 - val_loss: 0.0200 - val_accuracy: 0.9953\n",
      "Epoch 47/50\n",
      "459/459 - 19s - loss: 0.0130 - accuracy: 0.9959 - val_loss: 0.0208 - val_accuracy: 0.9954\n",
      "Epoch 48/50\n",
      "459/459 - 19s - loss: 0.0102 - accuracy: 0.9966 - val_loss: 0.0213 - val_accuracy: 0.9955\n",
      "Epoch 49/50\n",
      "459/459 - 19s - loss: 0.0129 - accuracy: 0.9960 - val_loss: 0.0218 - val_accuracy: 0.9955\n",
      "Epoch 50/50\n",
      "459/459 - 19s - loss: 0.0110 - accuracy: 0.9966 - val_loss: 0.0215 - val_accuracy: 0.9956\n"
     ]
    }
   ],
   "source": [
    "history = model.fit(datagen.flow(x_train_reshaped,y_train, batch_size=64),\n",
    "                         epochs=50, validation_data=(x_val_reshaped,y_val),\n",
    "                         callbacks=[reduce_lr, callback],\n",
    "                         verbose=2, steps_per_epoch=x_train_reshaped.shape[0] // 64)"
   ]
  },
  {
   "cell_type": "markdown",
   "id": "scientific-legislation",
   "metadata": {
    "papermill": {
     "duration": 0.062987,
     "end_time": "2021-06-14T03:57:27.533153",
     "exception": false,
     "start_time": "2021-06-14T03:57:27.470166",
     "status": "completed"
    },
    "tags": []
   },
   "source": [
    "# Recap and last steps\n",
    "\n",
    "Review of the training process and our model. We will generate plots of the accuracy and loss over the training process."
   ]
  },
  {
   "cell_type": "code",
   "execution_count": 21,
   "id": "changing-scanner",
   "metadata": {
    "execution": {
     "iopub.execute_input": "2021-06-14T03:57:27.688742Z",
     "iopub.status.busy": "2021-06-14T03:57:27.687254Z",
     "iopub.status.idle": "2021-06-14T03:57:27.940251Z",
     "shell.execute_reply": "2021-06-14T03:57:27.940669Z",
     "shell.execute_reply.started": "2021-06-14T03:05:38.115529Z"
    },
    "papermill": {
     "duration": 0.344815,
     "end_time": "2021-06-14T03:57:27.940815",
     "exception": false,
     "start_time": "2021-06-14T03:57:27.596000",
     "status": "completed"
    },
    "tags": []
   },
   "outputs": [
    {
     "data": {
      "image/png": "[encoded data removed]",
      "text/plain": [
       "<Figure size 432x288 with 1 Axes>"
      ]
     },
     "metadata": {
      "needs_background": "light"
     },
     "output_type": "display_data"
    },
    {
     "data": {
      "image/png": "[encoded data removed]",
      "text/plain": [
       "<Figure size 432x288 with 1 Axes>"
      ]
     },
     "metadata": {
      "needs_background": "light"
     },
     "output_type": "display_data"
    }
   ],
   "source": [
    "for metric in ['accuracy', 'loss']:\n",
    "    plt.plot(history.history[metric])\n",
    "    plt.plot(history.history['val_'+metric])\n",
    "    plt.title('training '+metric+' plot', fontsize=18)\n",
    "    plt.legend(['train', 'validation'])\n",
    "    plt.xlabel('epochs', fontsize=14)\n",
    "    plt.ylabel(metric, fontsize=14)\n",
    "    plt.show()"
   ]
  },
  {
   "cell_type": "markdown",
   "id": "excited-metro",
   "metadata": {
    "papermill": {
     "duration": 0.063962,
     "end_time": "2021-06-14T03:57:28.069215",
     "exception": false,
     "start_time": "2021-06-14T03:57:28.005253",
     "status": "completed"
    },
    "tags": []
   },
   "source": [
    "Now we will use our model to generate predictions on the testing data and save those predictions for submission. Please note that before we can feed the test data to the model, we have to format it in the same way we did our training data. "
   ]
  },
  {
   "cell_type": "code",
   "execution_count": 22,
   "id": "tamil-brand",
   "metadata": {
    "execution": {
     "iopub.execute_input": "2021-06-14T03:57:28.204873Z",
     "iopub.status.busy": "2021-06-14T03:57:28.203568Z",
     "iopub.status.idle": "2021-06-14T03:57:28.454640Z",
     "shell.execute_reply": "2021-06-14T03:57:28.454161Z",
     "shell.execute_reply.started": "2021-06-14T03:07:22.465684Z"
    },
    "papermill": {
     "duration": 0.320251,
     "end_time": "2021-06-14T03:57:28.454777",
     "exception": false,
     "start_time": "2021-06-14T03:57:28.134526",
     "status": "completed"
    },
    "tags": []
   },
   "outputs": [
    {
     "name": "stdout",
     "output_type": "stream",
     "text": [
      "(28000, 28, 28, 1)\n",
      "float64\n"
     ]
    }
   ],
   "source": [
    "x_test_reshaped_normalized = np.array(test_data_all.copy()).astype('float64').reshape(-1, 28, 28, 1) / 255.0\n",
    "\n",
    "print(x_test_reshaped_normalized.shape)\n",
    "print(x_test_reshaped_normalized[0].dtype)"
   ]
  },
  {
   "cell_type": "code",
   "execution_count": 23,
   "id": "brazilian-catch",
   "metadata": {
    "execution": {
     "iopub.execute_input": "2021-06-14T03:57:28.590078Z",
     "iopub.status.busy": "2021-06-14T03:57:28.589116Z",
     "iopub.status.idle": "2021-06-14T03:57:39.641844Z",
     "shell.execute_reply": "2021-06-14T03:57:39.641333Z",
     "shell.execute_reply.started": "2021-06-14T03:08:31.677795Z"
    },
    "papermill": {
     "duration": 11.1219,
     "end_time": "2021-06-14T03:57:39.641990",
     "exception": false,
     "start_time": "2021-06-14T03:57:28.520090",
     "status": "completed"
    },
    "tags": []
   },
   "outputs": [],
   "source": [
    "x_test_predictions = model.predict(x_test_reshaped_normalized)"
   ]
  },
  {
   "cell_type": "markdown",
   "id": "stylish-concentration",
   "metadata": {
    "papermill": {
     "duration": 0.064506,
     "end_time": "2021-06-14T03:57:39.773080",
     "exception": false,
     "start_time": "2021-06-14T03:57:39.708574",
     "status": "completed"
    },
    "tags": []
   },
   "source": [
    "Let's peek at our predictions."
   ]
  },
  {
   "cell_type": "code",
   "execution_count": 24,
   "id": "expensive-reasoning",
   "metadata": {
    "execution": {
     "iopub.execute_input": "2021-06-14T03:57:39.908928Z",
     "iopub.status.busy": "2021-06-14T03:57:39.908335Z",
     "iopub.status.idle": "2021-06-14T03:57:39.914033Z",
     "shell.execute_reply": "2021-06-14T03:57:39.913364Z",
     "shell.execute_reply.started": "2021-06-14T03:09:57.095661Z"
    },
    "papermill": {
     "duration": 0.076568,
     "end_time": "2021-06-14T03:57:39.914214",
     "exception": false,
     "start_time": "2021-06-14T03:57:39.837646",
     "status": "completed"
    },
    "tags": []
   },
   "outputs": [
    {
     "name": "stdout",
     "output_type": "stream",
     "text": [
      "[3.7395192e-10 1.0926772e-11 1.0000000e+00 7.6835543e-10 3.1283554e-10\n",
      " 6.5770388e-12 2.7579480e-10 1.3513155e-08 3.4021766e-10 1.3134785e-10]\n"
     ]
    }
   ],
   "source": [
    "print(x_test_predictions[0])"
   ]
  },
  {
   "cell_type": "markdown",
   "id": "referenced-northeast",
   "metadata": {
    "papermill": {
     "duration": 0.064721,
     "end_time": "2021-06-14T03:57:40.049472",
     "exception": false,
     "start_time": "2021-06-14T03:57:39.984751",
     "status": "completed"
    },
    "tags": []
   },
   "source": [
    "We see that each entry is an array of 10 numbers, corresponding to digits 0-9 in this case. Each number represents the probability that the image represents that digit. The 3rd entry has a value of 1.00, which means the first picture should be the digit 2."
   ]
  },
  {
   "cell_type": "code",
   "execution_count": 25,
   "id": "important-republican",
   "metadata": {
    "execution": {
     "iopub.execute_input": "2021-06-14T03:57:40.205131Z",
     "iopub.status.busy": "2021-06-14T03:57:40.204147Z",
     "iopub.status.idle": "2021-06-14T03:57:40.313136Z",
     "shell.execute_reply": "2021-06-14T03:57:40.312718Z",
     "shell.execute_reply.started": "2021-06-14T03:17:45.742463Z"
    },
    "papermill": {
     "duration": 0.197859,
     "end_time": "2021-06-14T03:57:40.313257",
     "exception": false,
     "start_time": "2021-06-14T03:57:40.115398",
     "status": "completed"
    },
    "tags": []
   },
   "outputs": [
    {
     "data": {
      "image/png": "[encoded data removed]",
      "text/plain": [
       "<Figure size 360x360 with 1 Axes>"
      ]
     },
     "metadata": {
      "needs_background": "light"
     },
     "output_type": "display_data"
    }
   ],
   "source": [
    "fig_test = plt.figure(figsize = (5, 5))\n",
    "plt.imshow(x_test_reshaped_normalized[0]*255.0)\n",
    "plt.show()"
   ]
  },
  {
   "cell_type": "markdown",
   "id": "framed-cornell",
   "metadata": {
    "papermill": {
     "duration": 0.065361,
     "end_time": "2021-06-14T03:57:40.443529",
     "exception": false,
     "start_time": "2021-06-14T03:57:40.378168",
     "status": "completed"
    },
    "tags": []
   },
   "source": [
    "And we see that we are correct! Now let us save our submission."
   ]
  },
  {
   "cell_type": "code",
   "execution_count": 26,
   "id": "consolidated-begin",
   "metadata": {
    "execution": {
     "iopub.execute_input": "2021-06-14T03:57:40.580190Z",
     "iopub.status.busy": "2021-06-14T03:57:40.579369Z",
     "iopub.status.idle": "2021-06-14T03:57:40.591600Z",
     "shell.execute_reply": "2021-06-14T03:57:40.591175Z",
     "shell.execute_reply.started": "2021-06-14T03:25:13.563090Z"
    },
    "papermill": {
     "duration": 0.081718,
     "end_time": "2021-06-14T03:57:40.591722",
     "exception": false,
     "start_time": "2021-06-14T03:57:40.510004",
     "status": "completed"
    },
    "tags": []
   },
   "outputs": [
    {
     "data": {
      "text/html": [
       "<div>\n",
       "<style scoped>\n",
       "    .dataframe tbody tr th:only-of-type {\n",
       "        vertical-align: middle;\n",
       "    }\n",
       "\n",
       "    .dataframe tbody tr th {\n",
       "        vertical-align: top;\n",
       "    }\n",
       "\n",
       "    .dataframe thead th {\n",
       "        text-align: right;\n",
       "    }\n",
       "</style>\n",
       "<table border=\"1\" class=\"dataframe\">\n",
       "  <thead>\n",
       "    <tr style=\"text-align: right;\">\n",
       "      <th></th>\n",
       "      <th>ImageId</th>\n",
       "      <th>Label</th>\n",
       "    </tr>\n",
       "  </thead>\n",
       "  <tbody>\n",
       "    <tr>\n",
       "      <th>0</th>\n",
       "      <td>1</td>\n",
       "      <td>2</td>\n",
       "    </tr>\n",
       "    <tr>\n",
       "      <th>1</th>\n",
       "      <td>2</td>\n",
       "      <td>0</td>\n",
       "    </tr>\n",
       "    <tr>\n",
       "      <th>2</th>\n",
       "      <td>3</td>\n",
       "      <td>9</td>\n",
       "    </tr>\n",
       "    <tr>\n",
       "      <th>3</th>\n",
       "      <td>4</td>\n",
       "      <td>0</td>\n",
       "    </tr>\n",
       "    <tr>\n",
       "      <th>4</th>\n",
       "      <td>5</td>\n",
       "      <td>3</td>\n",
       "    </tr>\n",
       "    <tr>\n",
       "      <th>...</th>\n",
       "      <td>...</td>\n",
       "      <td>...</td>\n",
       "    </tr>\n",
       "    <tr>\n",
       "      <th>27995</th>\n",
       "      <td>27996</td>\n",
       "      <td>9</td>\n",
       "    </tr>\n",
       "    <tr>\n",
       "      <th>27996</th>\n",
       "      <td>27997</td>\n",
       "      <td>7</td>\n",
       "    </tr>\n",
       "    <tr>\n",
       "      <th>27997</th>\n",
       "      <td>27998</td>\n",
       "      <td>3</td>\n",
       "    </tr>\n",
       "    <tr>\n",
       "      <th>27998</th>\n",
       "      <td>27999</td>\n",
       "      <td>9</td>\n",
       "    </tr>\n",
       "    <tr>\n",
       "      <th>27999</th>\n",
       "      <td>28000</td>\n",
       "      <td>2</td>\n",
       "    </tr>\n",
       "  </tbody>\n",
       "</table>\n",
       "<p>28000 rows × 2 columns</p>\n",
       "</div>"
      ],
      "text/plain": [
       "       ImageId  Label\n",
       "0            1      2\n",
       "1            2      0\n",
       "2            3      9\n",
       "3            4      0\n",
       "4            5      3\n",
       "...        ...    ...\n",
       "27995    27996      9\n",
       "27996    27997      7\n",
       "27997    27998      3\n",
       "27998    27999      9\n",
       "27999    28000      2\n",
       "\n",
       "[28000 rows x 2 columns]"
      ]
     },
     "execution_count": 26,
     "metadata": {},
     "output_type": "execute_result"
    }
   ],
   "source": [
    "submission = pd.DataFrame({'ImageId':test_data_all.index.values+1, 'Label':np.argmax(x_test_predictions, axis=1)})\n",
    "submission"
   ]
  },
  {
   "cell_type": "code",
   "execution_count": 27,
   "id": "expanded-narrative",
   "metadata": {
    "execution": {
     "iopub.execute_input": "2021-06-14T03:57:40.727309Z",
     "iopub.status.busy": "2021-06-14T03:57:40.726769Z",
     "iopub.status.idle": "2021-06-14T03:57:40.896216Z",
     "shell.execute_reply": "2021-06-14T03:57:40.895427Z",
     "shell.execute_reply.started": "2021-06-14T03:26:47.858118Z"
    },
    "papermill": {
     "duration": 0.239154,
     "end_time": "2021-06-14T03:57:40.896345",
     "exception": false,
     "start_time": "2021-06-14T03:57:40.657191",
     "status": "completed"
    },
    "tags": []
   },
   "outputs": [],
   "source": [
    "submission.to_csv('submission.csv', index=False)"
   ]
  },
  {
   "cell_type": "code",
   "execution_count": 28,
   "id": "touched-collection",
   "metadata": {
    "execution": {
     "iopub.execute_input": "2021-06-14T03:57:41.032205Z",
     "iopub.status.busy": "2021-06-14T03:57:41.031664Z",
     "iopub.status.idle": "2021-06-14T03:57:41.711254Z",
     "shell.execute_reply": "2021-06-14T03:57:41.710684Z",
     "shell.execute_reply.started": "2021-06-14T03:26:57.260654Z"
    },
    "papermill": {
     "duration": 0.749341,
     "end_time": "2021-06-14T03:57:41.711375",
     "exception": false,
     "start_time": "2021-06-14T03:57:40.962034",
     "status": "completed"
    },
    "tags": []
   },
   "outputs": [
    {
     "name": "stdout",
     "output_type": "stream",
     "text": [
      "__notebook__.ipynb  model.png  submission.csv\r\n"
     ]
    }
   ],
   "source": [
    "%ls"
   ]
  },
  {
   "cell_type": "markdown",
   "id": "noble-sample",
   "metadata": {
    "papermill": {
     "duration": 0.066513,
     "end_time": "2021-06-14T03:57:41.850518",
     "exception": false,
     "start_time": "2021-06-14T03:57:41.784005",
     "status": "completed"
    },
    "tags": []
   },
   "source": [
    "Go ahead and download the submission file and submit to the competition. Let us save our model so we may use it in the future."
   ]
  },
  {
   "cell_type": "code",
   "execution_count": 29,
   "id": "formed-recording",
   "metadata": {
    "execution": {
     "iopub.execute_input": "2021-06-14T03:57:42.003197Z",
     "iopub.status.busy": "2021-06-14T03:57:42.001754Z",
     "iopub.status.idle": "2021-06-14T03:57:45.827076Z",
     "shell.execute_reply": "2021-06-14T03:57:45.826613Z",
     "shell.execute_reply.started": "2021-06-14T03:34:16.430525Z"
    },
    "papermill": {
     "duration": 3.908537,
     "end_time": "2021-06-14T03:57:45.827207",
     "exception": false,
     "start_time": "2021-06-14T03:57:41.918670",
     "status": "completed"
    },
    "tags": []
   },
   "outputs": [],
   "source": [
    "model.save('MNIST_digit_classifier_model')"
   ]
  },
  {
   "cell_type": "markdown",
   "id": "outer-frank",
   "metadata": {
    "papermill": {
     "duration": 0.066372,
     "end_time": "2021-06-14T03:57:45.961734",
     "exception": false,
     "start_time": "2021-06-14T03:57:45.895362",
     "status": "completed"
    },
    "tags": []
   },
   "source": [
    "To load the model, use the following."
   ]
  },
  {
   "cell_type": "code",
   "execution_count": 30,
   "id": "provincial-publication",
   "metadata": {
    "execution": {
     "iopub.execute_input": "2021-06-14T03:57:46.109564Z",
     "iopub.status.busy": "2021-06-14T03:57:46.109038Z",
     "iopub.status.idle": "2021-06-14T03:57:46.113218Z",
     "shell.execute_reply": "2021-06-14T03:57:46.112802Z"
    },
    "papermill": {
     "duration": 0.085506,
     "end_time": "2021-06-14T03:57:46.113338",
     "exception": false,
     "start_time": "2021-06-14T03:57:46.027832",
     "status": "completed"
    },
    "tags": []
   },
   "outputs": [],
   "source": [
    "# preexisting_model = keras.models.load_model(\"MNIST_digit_classifier_model\")"
   ]
  },
  {
   "cell_type": "markdown",
   "id": "charged-shopping",
   "metadata": {
    "papermill": {
     "duration": 0.066491,
     "end_time": "2021-06-14T03:57:46.246914",
     "exception": false,
     "start_time": "2021-06-14T03:57:46.180423",
     "status": "completed"
    },
    "tags": []
   },
   "source": [
    "Thank you very much for checking out this notebook. If you like what you see, please give this an upvote so I can provide more content in the future! You may also follow me on twitter [@leoyuguanall38](https://twitter.com/leoyuguanall38) and [GitHub](https://github.com/leoyuguanall38)."
   ]
  }
 ],
 "metadata": {
  "kernelspec": {
   "display_name": "Python 3",
   "language": "python",
   "name": "python3"
  },
  "language_info": {
   "codemirror_mode": {
    "name": "ipython",
    "version": 3
   },
   "file_extension": ".py",
   "mimetype": "text/x-python",
   "name": "python",
   "nbconvert_exporter": "python",
   "pygments_lexer": "ipython3",
   "version": "3.7.10"
  },
  "papermill": {
   "default_parameters": {},
   "duration": 994.929994,
   "end_time": "2021-06-14T03:57:49.121429",
   "environment_variables": {},
   "exception": null,
   "input_path": "__notebook__.ipynb",
   "output_path": "__notebook__.ipynb",
   "parameters": {},
   "start_time": "2021-06-14T03:41:14.191435",
   "version": "2.3.3"
  }
 },
 "nbformat": 4,
 "nbformat_minor": 5
}
